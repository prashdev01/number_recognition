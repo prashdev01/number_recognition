{
  "cells": [
    {
      "cell_type": "markdown",
      "metadata": {
        "id": "VoqPCOhP2MFh"
      },
      "source": [
        "# Import necessary libraries"
      ]
    },
    {
      "cell_type": "markdown",
      "metadata": {
        "id": "1suyGpBD2MFk"
      },
      "source": [
        "First, make sure you have the required libraries installed. You might need to install them using pip if you haven't already."
      ]
    },
    {
      "cell_type": "code",
      "execution_count": 1,
      "metadata": {
        "id": "JytTvIGg2MFl"
      },
      "outputs": [
        {
          "ename": "ModuleNotFoundError",
          "evalue": "No module named 'urllib3.packages.six.moves'",
          "output_type": "error",
          "traceback": [
            "\u001b[1;31m---------------------------------------------------------------------------\u001b[0m",
            "\u001b[1;31mModuleNotFoundError\u001b[0m                       Traceback (most recent call last)",
            "Cell \u001b[1;32mIn[1], line 1\u001b[0m\n\u001b[1;32m----> 1\u001b[0m \u001b[38;5;28;01mimport\u001b[39;00m \u001b[38;5;21;01mrequests\u001b[39;00m\n\u001b[0;32m      2\u001b[0m \u001b[38;5;28;01mfrom\u001b[39;00m \u001b[38;5;21;01mbs4\u001b[39;00m \u001b[38;5;28;01mimport\u001b[39;00m BeautifulSoup\n\u001b[0;32m      3\u001b[0m \u001b[38;5;28;01mimport\u001b[39;00m \u001b[38;5;21;01mre\u001b[39;00m\n",
            "File \u001b[1;32mc:\\Users\\SHIV\\AppData\\Local\\Programs\\Python\\Python312\\Lib\\site-packages\\requests\\__init__.py:43\u001b[0m\n\u001b[0;32m      1\u001b[0m \u001b[38;5;66;03m# -*- coding: utf-8 -*-\u001b[39;00m\n\u001b[0;32m      2\u001b[0m \n\u001b[0;32m      3\u001b[0m \u001b[38;5;66;03m#   __\u001b[39;00m\n\u001b[0;32m      4\u001b[0m \u001b[38;5;66;03m#  /__)  _  _     _   _ _/   _\u001b[39;00m\n\u001b[0;32m      5\u001b[0m \u001b[38;5;66;03m# / (   (- (/ (/ (- _)  /  _)\u001b[39;00m\n\u001b[0;32m      6\u001b[0m \u001b[38;5;66;03m#          /\u001b[39;00m\n\u001b[0;32m      8\u001b[0m \u001b[38;5;124;03m\"\"\"\u001b[39;00m\n\u001b[0;32m      9\u001b[0m \u001b[38;5;124;03mRequests HTTP Library\u001b[39;00m\n\u001b[0;32m     10\u001b[0m \u001b[38;5;124;03m~~~~~~~~~~~~~~~~~~~~~\u001b[39;00m\n\u001b[1;32m   (...)\u001b[0m\n\u001b[0;32m     40\u001b[0m \u001b[38;5;124;03m:license: Apache 2.0, see LICENSE for more details.\u001b[39;00m\n\u001b[0;32m     41\u001b[0m \u001b[38;5;124;03m\"\"\"\u001b[39;00m\n\u001b[1;32m---> 43\u001b[0m \u001b[38;5;28;01mimport\u001b[39;00m \u001b[38;5;21;01murllib3\u001b[39;00m\n\u001b[0;32m     44\u001b[0m \u001b[38;5;28;01mimport\u001b[39;00m \u001b[38;5;21;01mchardet\u001b[39;00m\n\u001b[0;32m     45\u001b[0m \u001b[38;5;28;01mimport\u001b[39;00m \u001b[38;5;21;01mwarnings\u001b[39;00m\n",
            "File \u001b[1;32mc:\\Users\\SHIV\\AppData\\Local\\Programs\\Python\\Python312\\Lib\\site-packages\\urllib3\\__init__.py:7\u001b[0m\n\u001b[0;32m      4\u001b[0m \u001b[38;5;28;01mfrom\u001b[39;00m \u001b[38;5;21;01m__future__\u001b[39;00m \u001b[38;5;28;01mimport\u001b[39;00m absolute_import\n\u001b[0;32m      5\u001b[0m \u001b[38;5;28;01mimport\u001b[39;00m \u001b[38;5;21;01mwarnings\u001b[39;00m\n\u001b[1;32m----> 7\u001b[0m \u001b[38;5;28;01mfrom\u001b[39;00m \u001b[38;5;21;01m.\u001b[39;00m\u001b[38;5;21;01mconnectionpool\u001b[39;00m \u001b[38;5;28;01mimport\u001b[39;00m HTTPConnectionPool, HTTPSConnectionPool, connection_from_url\n\u001b[0;32m      9\u001b[0m \u001b[38;5;28;01mfrom\u001b[39;00m \u001b[38;5;21;01m.\u001b[39;00m \u001b[38;5;28;01mimport\u001b[39;00m exceptions\n\u001b[0;32m     10\u001b[0m \u001b[38;5;28;01mfrom\u001b[39;00m \u001b[38;5;21;01m.\u001b[39;00m\u001b[38;5;21;01mfilepost\u001b[39;00m \u001b[38;5;28;01mimport\u001b[39;00m encode_multipart_formdata\n",
            "File \u001b[1;32mc:\\Users\\SHIV\\AppData\\Local\\Programs\\Python\\Python312\\Lib\\site-packages\\urllib3\\connectionpool.py:11\u001b[0m\n\u001b[0;32m      7\u001b[0m \u001b[38;5;28;01mfrom\u001b[39;00m \u001b[38;5;21;01msocket\u001b[39;00m \u001b[38;5;28;01mimport\u001b[39;00m error \u001b[38;5;28;01mas\u001b[39;00m SocketError, timeout \u001b[38;5;28;01mas\u001b[39;00m SocketTimeout\n\u001b[0;32m      8\u001b[0m \u001b[38;5;28;01mimport\u001b[39;00m \u001b[38;5;21;01msocket\u001b[39;00m\n\u001b[1;32m---> 11\u001b[0m \u001b[38;5;28;01mfrom\u001b[39;00m \u001b[38;5;21;01m.\u001b[39;00m\u001b[38;5;21;01mexceptions\u001b[39;00m \u001b[38;5;28;01mimport\u001b[39;00m (\n\u001b[0;32m     12\u001b[0m     ClosedPoolError,\n\u001b[0;32m     13\u001b[0m     ProtocolError,\n\u001b[0;32m     14\u001b[0m     EmptyPoolError,\n\u001b[0;32m     15\u001b[0m     HeaderParsingError,\n\u001b[0;32m     16\u001b[0m     HostChangedError,\n\u001b[0;32m     17\u001b[0m     LocationValueError,\n\u001b[0;32m     18\u001b[0m     MaxRetryError,\n\u001b[0;32m     19\u001b[0m     ProxyError,\n\u001b[0;32m     20\u001b[0m     ReadTimeoutError,\n\u001b[0;32m     21\u001b[0m     SSLError,\n\u001b[0;32m     22\u001b[0m     \u001b[38;5;167;01mTimeoutError\u001b[39;00m,\n\u001b[0;32m     23\u001b[0m     InsecureRequestWarning,\n\u001b[0;32m     24\u001b[0m     NewConnectionError,\n\u001b[0;32m     25\u001b[0m )\n\u001b[0;32m     26\u001b[0m \u001b[38;5;28;01mfrom\u001b[39;00m \u001b[38;5;21;01m.\u001b[39;00m\u001b[38;5;21;01mpackages\u001b[39;00m\u001b[38;5;21;01m.\u001b[39;00m\u001b[38;5;21;01mssl_match_hostname\u001b[39;00m \u001b[38;5;28;01mimport\u001b[39;00m CertificateError\n\u001b[0;32m     27\u001b[0m \u001b[38;5;28;01mfrom\u001b[39;00m \u001b[38;5;21;01m.\u001b[39;00m\u001b[38;5;21;01mpackages\u001b[39;00m \u001b[38;5;28;01mimport\u001b[39;00m six\n",
            "File \u001b[1;32mc:\\Users\\SHIV\\AppData\\Local\\Programs\\Python\\Python312\\Lib\\site-packages\\urllib3\\exceptions.py:2\u001b[0m\n\u001b[0;32m      1\u001b[0m \u001b[38;5;28;01mfrom\u001b[39;00m \u001b[38;5;21;01m__future__\u001b[39;00m \u001b[38;5;28;01mimport\u001b[39;00m absolute_import\n\u001b[1;32m----> 2\u001b[0m \u001b[38;5;28;01mfrom\u001b[39;00m \u001b[38;5;21;01m.\u001b[39;00m\u001b[38;5;21;01mpackages\u001b[39;00m\u001b[38;5;21;01m.\u001b[39;00m\u001b[38;5;21;01msix\u001b[39;00m\u001b[38;5;21;01m.\u001b[39;00m\u001b[38;5;21;01mmoves\u001b[39;00m\u001b[38;5;21;01m.\u001b[39;00m\u001b[38;5;21;01mhttp_client\u001b[39;00m \u001b[38;5;28;01mimport\u001b[39;00m IncompleteRead \u001b[38;5;28;01mas\u001b[39;00m httplib_IncompleteRead\n\u001b[0;32m      4\u001b[0m \u001b[38;5;66;03m# Base Exceptions\u001b[39;00m\n\u001b[0;32m      7\u001b[0m \u001b[38;5;28;01mclass\u001b[39;00m \u001b[38;5;21;01mHTTPError\u001b[39;00m(\u001b[38;5;167;01mException\u001b[39;00m):\n",
            "\u001b[1;31mModuleNotFoundError\u001b[0m: No module named 'urllib3.packages.six.moves'"
          ]
        }
      ],
      "source": [
        "import requests\n",
        "from bs4 import BeautifulSoup\n",
        "import re\n",
        "from nltk.tokenize import word_tokenize\n",
        "from nltk.corpus import stopwords\n",
        "from nltk.stem import PorterStemmer"
      ]
    },
    {
      "cell_type": "code",
      "execution_count": 2,
      "metadata": {
        "colab": {
          "base_uri": "https://localhost:8080/"
        },
        "id": "YNRd9rK62knP",
        "outputId": "29753723-501e-45c5-d646-d9e714faf8cf"
      },
      "outputs": [
        {
          "name": "stdout",
          "output_type": "stream",
          "text": [
            "showing info https://raw.githubusercontent.com/nltk/nltk_data/gh-pages/index.xml\n"
          ]
        }
      ],
      "source": [
        "import nltk\n",
        "nltk.download()"
      ]
    },
    {
      "cell_type": "markdown",
      "metadata": {
        "id": "sKJV4dRd2MFm"
      },
      "source": [
        "# Fetch and Parse HTML"
      ]
    },
    {
      "cell_type": "markdown",
      "metadata": {
        "id": "jstf7cO_2MFm"
      },
      "source": [
        "Use the requests library to fetch the HTML content of a webpage and then use BeautifulSoup to parse it."
      ]
    },
    {
      "cell_type": "code",
      "execution_count": 10,
      "metadata": {
        "id": "zn-aEgXV2MFn"
      },
      "outputs": [],
      "source": [
        "url = \"https://en.wikipedia.org/wiki/Independence_Day_(India)\"  # Replace with the URL of the webpage you want to scrape\n",
        "response = requests.get(url)\n",
        "html_content = response.content\n",
        "\n",
        "soup = BeautifulSoup(html_content, 'html.parser')"
      ]
    },
    {
      "cell_type": "markdown",
      "metadata": {
        "id": "mLDdT_4n2MFn"
      },
      "source": [
        "# Extract Text Data"
      ]
    },
    {
      "cell_type": "markdown",
      "metadata": {
        "id": "UoNnI4XU2MFn"
      },
      "source": [
        "Once you have the parsed HTML, extract the relevant text data using various methods such as .find(), .find_all(), and .get_text()."
      ]
    },
    {
      "cell_type": "code",
      "execution_count": 11,
      "metadata": {
        "id": "4LxVtuNt2MFn"
      },
      "outputs": [],
      "source": [
        "# Example: Extracting all paragraphs\n",
        "paragraphs = soup.find_all('p')\n",
        "\n",
        "# Extracting text from each paragraph\n",
        "paragraph_texts = [paragraph.get_text() for paragraph in paragraphs]"
      ]
    },
    {
      "cell_type": "markdown",
      "metadata": {
        "id": "W1dMt6Vu2MFo"
      },
      "source": [
        "# Text Preprocessing"
      ]
    },
    {
      "cell_type": "markdown",
      "metadata": {
        "id": "MDUuuWZP2MFo"
      },
      "source": [
        "Text preprocessing involves various steps to clean and normalize the extracted text."
      ]
    },
    {
      "cell_type": "code",
      "execution_count": 12,
      "metadata": {
        "id": "DkuDs0vg2MFo"
      },
      "outputs": [],
      "source": [
        "# Convert to lowercase\n",
        "lowercase_text = [text.lower() for text in paragraph_texts]\n",
        "\n",
        "# Remove special characters using regex\n",
        "cleaned_text = [re.sub(r'[^a-zA-Z0-9\\s]', '', text) for text in lowercase_text]\n",
        "\n",
        "# Tokenization\n",
        "tokenized_text = [word_tokenize(text) for text in cleaned_text]\n",
        "\n",
        "# Remove stopwords\n",
        "stop_words = set(stopwords.words('english'))\n",
        "filtered_text = [[word for word in tokens if word not in stop_words] for tokens in tokenized_text]\n",
        "\n",
        "# Stemming\n",
        "stemmer = PorterStemmer()\n",
        "stemmed_text = [[stemmer.stem(word) for word in tokens] for tokens in filtered_text]"
      ]
    },
    {
      "cell_type": "markdown",
      "metadata": {
        "id": "98bchYUl2MFo"
      },
      "source": [
        "# Further Processing"
      ]
    },
    {
      "cell_type": "markdown",
      "metadata": {
        "id": "xrijMyNs2MFp"
      },
      "source": [
        "You can perform additional steps such as removing empty tokens, converting the processed text back to sentences or paragraphs, and so on, based on your requirements."
      ]
    },
    {
      "cell_type": "code",
      "execution_count": 13,
      "metadata": {
        "id": "TuD5VCK92MFp"
      },
      "outputs": [],
      "source": [
        "# Remove empty tokens\n",
        "final_text = [[word for word in tokens if word.strip()] for tokens in stemmed_text]\n",
        "\n",
        "# Convert tokens back to sentences\n",
        "sentences = [' '.join(tokens) for tokens in final_text]\n",
        "\n",
        "# Convert sentences back to paragraphs\n",
        "processed_paragraphs = '\\n\\n'.join(sentences)"
      ]
    },
    {
      "cell_type": "markdown",
      "metadata": {
        "id": "j6E_a_ca2MFp"
      },
      "source": [
        "# Save Processed Text"
      ]
    },
    {
      "cell_type": "markdown",
      "metadata": {
        "id": "WhJLW6Ge2MFp"
      },
      "source": [
        "Finally, you can save the processed text to a file for further analysis."
      ]
    },
    {
      "cell_type": "code",
      "execution_count": 16,
      "metadata": {
        "colab": {
          "base_uri": "https://localhost:8080/"
        },
        "id": "zESJcS5w2MFq",
        "outputId": "c17bc6c7-1f96-467e-efe9-3adf0086944d"
      },
      "outputs": [
        {
          "name": "stdout",
          "output_type": "stream",
          "text": [
            "\n",
            "\n",
            "independ day celebr annual 15 august public holiday india commemor nation independ unit kingdom 15 august 1947 day provis indian independ act transfer legisl sovereignti indian constitu assembl came effect india retain king georg vi head state transit republ constitut india came effect 26 januari 1950 celebr indian republ day replac dominion prefix dominion india enact sovereign law constitut india india attain independ follow independ movement note larg nonviol resist civil disobedi led indian nation congress leadership mahatma gandhi\n",
            "\n",
            "independ coincid partit india british india divid dominion india pakistan partit accompani violent riot mass casualti displac nearli 15 million peopl due religi violenc 15 august 1947 first prime minist india jawaharl nehru rais indian nation flag lahori gate red fort delhi subsequ independ day incumb prime minist customarili rais flag give address nation1 entir event broadcast doordarshan india nation broadcast usual begin shehnai music ustad bismillah khan independ day observ throughout india flaghoist ceremoni parad cultur event nation holiday234\n",
            "\n",
            "european trader establish outpost indian subcontin late 17th centuri overwhelm militari strength east india compani fought annex local kingdom establish domin forc 18th centuri follow indian rebellion 1857 govern india act 1858 led british crown assum direct control india decad follow civic societi gradual emerg across india notabl indian nation congress parti form 188556 123 period world war mark coloni reform montaguchelmsford reform also wit enact unpopular rowlatt act call selfrul indian activist discont period crystallis nationwid nonviol movement noncooper civil disobedi led mohanda karamchand gandhi6 167\n",
            "\n",
            "1930 reform gradual legisl british congress victori result elections6 195197 next decad beset polit turmoil indian particip world war ii congress final push noncooper upsurg muslim nation led allindia muslim leagu escal polit tension cap independ 1947 jubil temper bloodi partit coloni india india pakistan6 203\n",
            "\n",
            "hasrat mohani first person indian histori demand complet independ azadiekaamil 1929 session indian nation congress purna swaraj declar declar independ india promulgated7 26 januari declar independ day 19307 congress call peopl pledg civil disobedi carri congress instruct issu time time india attain complet independence8 celebr independ day envis stoke nationalist fervour among indian citizen forc british govern consid grant independence9 19 congress observ 26 januari independ day 1930 19461011 celebr mark meet attend took pledg independence9 1920 jawaharl nehru describ autobiographi meet peac solemn without speech exhortation12 gandhi envisag besid meet day would spent construct work whether spin servic untouch reunion hindu mussalman prohibit work even together13 follow actual independ 1947 constitut india came effect 26 januari 1950 sinc 26 januari celebr republ day\n",
            "\n",
            "1946 labour govern britain exchequ exhaust recent conclud world war ii realis neither mandat home intern support reliabl nativ forc continu maintain control increasingli restless india6 203 141516 20 februari 1947 prime minist clement attle announc british govern would grant full selfgovern british india june 1948 latest17\n",
            "\n",
            "new viceroy lord mountbatten advanc date transfer power believ continu content congress muslim leagu might lead collaps interim government18 chose second anniversari japan surrend world war ii 15 august date power transfer18 british govern announc 3 june 1947 accept idea partit british india two states17 successor govern would given dominion statu would implicit right seced british commonwealth indian independ act 1947 10 11 geo 6 c 30 parliament unit kingdom partit british india two new independ dominion india pakistan includ bangladesh effect 15 august 1947 grant complet legisl author upon respect constitu assembl new countries19 act receiv royal assent 18 juli 1947\n",
            "\n",
            "million muslim sikh hindu refuge trek newli drawn border month surround independence20 punjab border divid sikh region halv massiv bloodsh follow bengal bihar mahatma gandhi presenc assuag commun temper violenc mitig 250000 1000000 peopl side new border die violence21 entir nation celebr independ day gandhi stay calcutta attempt stem carnage22 14 august 1947 independ day pakistan new dominion pakistan came muhammad ali jinnah sworn first governor gener karachi\n",
            "\n",
            "constitu assembl india met fifth session 11 pm 14 august constitut hall new delhi23 session chair presid rajendra prasad session jawaharl nehru deliv tryst destini speech proclaim india independ\n",
            "\n",
            "long year ago made tryst destini time come shall redeem pledg wholli full measur substanti stroke midnight hour world sleep india awak life freedom moment come come rare histori step old new age end soul nation long suppress find utter fit solemn moment take pledg dedic servic india peopl still larger caus human\n",
            "\n",
            "member assembl formal took pledg servic countri group women repres women india formal present nation flag assembl\n",
            "\n",
            "dominion india becam independ countri offici ceremoni took place new delhi nehru assum offic first prime minist viceroy lord mountbatten continu first governor general25 6 gandhi name invok crowd celebr occas gandhi howev took part offici event instead mark day 24hour fast spoke crowd calcutta encourag peac hindu muslims25 10\n",
            "\n",
            "0830 swear governor gener minist govern house0940 process minist constitu assembly0950 state drive constitu assembly0955 royal salut governor general1030 hoist nation flag constitu assembly1035 state drive govern house0600 pm flag ceremoni india gate0700 pm illuminations0745 pm firework display0845 pm offici dinner govern house1015 pm recept govern offic\n",
            "\n",
            "day programm 15 august 194725 7\n",
            "\n",
            "independ day one three nation holiday india two republ day 26 januari mahatma gandhi birthday 2 octob observ indian state union territori eve independ day presid india deliv address nation 15 august prime minist hoist indian flag rampart histor site red fort delhi1 speech prime minist highlight past year achiev rais import issu call develop pay tribut leader indian independ movement indian nation anthem jana gana mana sung speech follow march past divis indian arm forc paramilitari forc parad pageant showcas scene independ struggl india divers cultur tradit similar event take place state capit chief minist individu state unfurl nation flag follow parad pageants2627 1973 governor state hoist nation flag state capit februari 1974 chief minist tamil nadu karunanidhi took issu prime minist indira gandhi chief minist like prime minist allow hoist nation flag independ day sinc 1974 chief minist respect state allow hoist nation flag independ day2829\n",
            "\n",
            "flaghoist ceremoni cultur programm take place government nongovernment institut throughout country30 school colleg conduct flag hoist ceremoni variou cultur event government nongovernment institut decor premis paper balloon decor hang freedom fighter portrait wall major govern build often adorn string lights31 delhi citi kite fli add occasion3233 nation flag differ size use abundantli symbolis allegi country34 citizen adorn cloth wristband car household accessori replica tricolour34 period time celebr chang emphasi nation broader celebr thing india3536\n",
            "\n",
            "indian diaspora celebr independ day around world parad pageant particularli region higher concentr indian immigrants37 locat new york us citi 15 august becom india day among diaspora local populac pageant celebr india day either 15 august adjoin weekend day38\n",
            "\n",
            "earli three year independ naga nation council call boycott independ day northeast india39 separatist protest region intensifi 1980 call boycott terrorist attack insurg organis unit liber front assam nation democrat front bodoland mar celebrations40 increas insurg jammu kashmir late 1980s41 separatist protest boycot independ day bandh strike use black flag flag burning424344 terrorist group lashkaretaiba hizbul mujahideen jaishemoham issu threat carri attack around independ day45 boycot celebr also advoc insurg maoist rebel organisations4647\n",
            "\n",
            "anticip terrorist attack particularli milit secur measur intensifi especi major citi delhi mumbai troubl state jammu kashmir4849 airspac around red fort declar nofli zone prevent aerial attacks50 addit polic forc deploy cities51\n",
            "\n",
            "sinc assassin indira gandhi prime minist would give speech behind bulletproof glass panel52 sinc 2014 narendra modi elect prime minist away tradition53 nevertheless addit intens measur taken ensur secur modi54\n",
            "\n",
            "independ day republ day patriot song region languag broadcast televis radio channels55 also play alongsid flaghoist ceremonies55 patriot film broadcast30 decad accord time india number film broadcast decreas channel report audienc oversatur patriot films56 popul belong gener often combin nation popular cultur celebr mixtur exemplifi outfit savouri dy tricolour garment repres india variou cultur traditions3557 shop often offer independ day sale promotions5859 news report decri commercialism586061 indian postal servic publish commemor stamp depict independ movement leader nationalist theme defencerel theme 15 august62\n",
            "\n",
            "independ partit inspir literari artist creations63 creation mostli describ human cost partit limit holiday small part narrative6465 salman rushdi novel midnight children 1980 booker prize booker booker wove narr around children born midnight 1415 august 1947 magic abilities65 freedom midnight 1975 nonfict work larri collin dominiqu lapierr chronicl event surround first independ day celebr 1947 film centr moment independence666768 instead highlight circumst partit aftermath666970 internet googl commemor independ day india sinc 2003 special doodl indian homepage71\n"
          ]
        }
      ],
      "source": [
        "with open('processed_text.txt', 'w', encoding='utf-8') as file:\n",
        "    file.write(processed_paragraphs)\n",
        "\n",
        "print(processed_paragraphs)\n"
      ]
    },
    {
      "cell_type": "code",
      "execution_count": null,
      "metadata": {
        "id": "4-ebic7w2MFq"
      },
      "outputs": [],
      "source": []
    }
  ],
  "metadata": {
    "colab": {
      "provenance": []
    },
    "kernelspec": {
      "display_name": "Python 3",
      "language": "python",
      "name": "python3"
    },
    "language_info": {
      "codemirror_mode": {
        "name": "ipython",
        "version": 3
      },
      "file_extension": ".py",
      "mimetype": "text/x-python",
      "name": "python",
      "nbconvert_exporter": "python",
      "pygments_lexer": "ipython3",
      "version": "3.12.1"
    }
  },
  "nbformat": 4,
  "nbformat_minor": 0
}
